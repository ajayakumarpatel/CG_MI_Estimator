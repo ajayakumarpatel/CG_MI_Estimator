{
 "cells": [
  {
   "cell_type": "code",
   "execution_count": 8,
   "id": "7cae7267-45af-49a7-a98c-4f8a5c1b8f45",
   "metadata": {},
   "outputs": [],
   "source": [
    "import numpy as np\n",
    "import pandas as pd\n",
    "import matplotlib.pyplot as plt"
   ]
  },
  {
   "cell_type": "code",
   "execution_count": null,
   "id": "3cc3b25a-839e-4750-a9a3-c8286d01cb21",
   "metadata": {},
   "outputs": [],
   "source": []
  },
  {
   "cell_type": "code",
   "execution_count": 10,
   "id": "0a35266e-de29-42ca-8f4a-92614c1c8881",
   "metadata": {},
   "outputs": [],
   "source": [
    "def polynomial_fit(x, y, degree):\n",
    "    # Vandermonde matrix\n",
    "    X = np.vander(x, degree + 1)\n",
    "    #least squares solution for the coefficients 'a'\n",
    "    X_T_X = X.T @ X\n",
    "    X_T_y = X.T @ y\n",
    "    coeff = np.linalg.solve(X_T_X, X_T_y)  # Solve for coefficients\n",
    "    return coeff\n",
    "\n",
    "def evaluate_poly_horner(x, coeffs):\n",
    "    result = 0\n",
    "    for coeff in coeffs:\n",
    "        result = result * x + coeff\n",
    "    return result"
   ]
  },
  {
   "cell_type": "code",
   "execution_count": null,
   "id": "72e71c89-b63b-4055-a7ad-bcfcd0eadbde",
   "metadata": {},
   "outputs": [],
   "source": []
  },
  {
   "cell_type": "code",
   "execution_count": 16,
   "id": "4a39748f-9068-40b5-8d2a-16e742c67523",
   "metadata": {},
   "outputs": [
    {
     "name": "stdout",
     "output_type": "stream",
     "text": [
      "shape:  (10, 10)\n"
     ]
    },
    {
     "data": {
      "text/html": [
       "<div>\n",
       "<style scoped>\n",
       "    .dataframe tbody tr th:only-of-type {\n",
       "        vertical-align: middle;\n",
       "    }\n",
       "\n",
       "    .dataframe tbody tr th {\n",
       "        vertical-align: top;\n",
       "    }\n",
       "\n",
       "    .dataframe thead th {\n",
       "        text-align: right;\n",
       "    }\n",
       "</style>\n",
       "<table border=\"1\" class=\"dataframe\">\n",
       "  <thead>\n",
       "    <tr style=\"text-align: right;\">\n",
       "      <th></th>\n",
       "      <th>Mass (kg)</th>\n",
       "      <th>r_cg_x (mm)</th>\n",
       "      <th>r_cg_y (mm)</th>\n",
       "      <th>r_cg_z (mm)</th>\n",
       "      <th>Ixx (kg mm2)</th>\n",
       "      <th>Iyx (kg mm2)</th>\n",
       "      <th>Iyy (kg mm2)</th>\n",
       "      <th>Izx (kg mm2)</th>\n",
       "      <th>Izy (kg mm2)</th>\n",
       "      <th>Izz (kg mm2)</th>\n",
       "    </tr>\n",
       "  </thead>\n",
       "  <tbody>\n",
       "    <tr>\n",
       "      <th>0</th>\n",
       "      <td>10.591</td>\n",
       "      <td>-2553.322</td>\n",
       "      <td>0</td>\n",
       "      <td>0</td>\n",
       "      <td>3.216264e+05</td>\n",
       "      <td>4.539</td>\n",
       "      <td>6.921674e+07</td>\n",
       "      <td>2.374</td>\n",
       "      <td>0</td>\n",
       "      <td>6.921674e+07</td>\n",
       "    </tr>\n",
       "    <tr>\n",
       "      <th>1</th>\n",
       "      <td>37.880</td>\n",
       "      <td>-2495.095</td>\n",
       "      <td>0</td>\n",
       "      <td>0</td>\n",
       "      <td>2.067775e+06</td>\n",
       "      <td>13.615</td>\n",
       "      <td>2.369314e+08</td>\n",
       "      <td>7.121</td>\n",
       "      <td>0</td>\n",
       "      <td>2.369314e+08</td>\n",
       "    </tr>\n",
       "    <tr>\n",
       "      <th>2</th>\n",
       "      <td>78.344</td>\n",
       "      <td>-2438.082</td>\n",
       "      <td>0</td>\n",
       "      <td>0</td>\n",
       "      <td>5.838228e+06</td>\n",
       "      <td>23.181</td>\n",
       "      <td>4.689539e+08</td>\n",
       "      <td>12.125</td>\n",
       "      <td>0</td>\n",
       "      <td>4.689539e+08</td>\n",
       "    </tr>\n",
       "    <tr>\n",
       "      <th>3</th>\n",
       "      <td>128.460</td>\n",
       "      <td>-2382.602</td>\n",
       "      <td>0</td>\n",
       "      <td>0</td>\n",
       "      <td>1.159575e+07</td>\n",
       "      <td>30.522</td>\n",
       "      <td>7.360275e+08</td>\n",
       "      <td>15.964</td>\n",
       "      <td>0</td>\n",
       "      <td>7.360275e+08</td>\n",
       "    </tr>\n",
       "    <tr>\n",
       "      <th>4</th>\n",
       "      <td>184.705</td>\n",
       "      <td>-2329.037</td>\n",
       "      <td>0</td>\n",
       "      <td>0</td>\n",
       "      <td>1.883642e+07</td>\n",
       "      <td>34.104</td>\n",
       "      <td>1.013572e+09</td>\n",
       "      <td>17.838</td>\n",
       "      <td>0</td>\n",
       "      <td>1.013572e+09</td>\n",
       "    </tr>\n",
       "  </tbody>\n",
       "</table>\n",
       "</div>"
      ],
      "text/plain": [
       "   Mass (kg)  r_cg_x (mm)  r_cg_y (mm)  r_cg_z (mm)  Ixx (kg mm2)  \\\n",
       "0     10.591    -2553.322            0            0  3.216264e+05   \n",
       "1     37.880    -2495.095            0            0  2.067775e+06   \n",
       "2     78.344    -2438.082            0            0  5.838228e+06   \n",
       "3    128.460    -2382.602            0            0  1.159575e+07   \n",
       "4    184.705    -2329.037            0            0  1.883642e+07   \n",
       "\n",
       "   Iyx (kg mm2)  Iyy (kg mm2)  Izx (kg mm2)  Izy (kg mm2)  Izz (kg mm2)  \n",
       "0         4.539  6.921674e+07         2.374             0  6.921674e+07  \n",
       "1        13.615  2.369314e+08         7.121             0  2.369314e+08  \n",
       "2        23.181  4.689539e+08        12.125             0  4.689539e+08  \n",
       "3        30.522  7.360275e+08        15.964             0  7.360275e+08  \n",
       "4        34.104  1.013572e+09        17.838             0  1.013572e+09  "
      ]
     },
     "execution_count": 16,
     "metadata": {},
     "output_type": "execute_result"
    }
   ],
   "source": [
    "input_path = 'C://Users//akpat//Desktop//Agnikul//Agniban01//CG MI Model V3.2//train data//'\n",
    "df = pd.read_csv(input_path+'US_ATF.csv')\n",
    "print('shape: ',df.shape)\n",
    "df.head()"
   ]
  },
  {
   "cell_type": "code",
   "execution_count": 22,
   "id": "64088ff9-cfa8-4f9f-a204-30aeb0ca3f4c",
   "metadata": {},
   "outputs": [
    {
     "data": {
      "text/plain": [
       "array([ 7.28182466e-23, -1.13837974e-19,  4.98156922e-17,  1.51298825e-14,\n",
       "       -2.41101600e-11,  1.09592000e-08, -2.71596092e-06,  4.09833576e-04,\n",
       "       -3.95702928e-02,  3.42820597e+00, -2.58564569e+03])"
      ]
     },
     "execution_count": 22,
     "metadata": {},
     "output_type": "execute_result"
    }
   ],
   "source": [
    "x_train = df['Mass (kg)']\n",
    "y_train = df['r_cg_x (mm)']\n",
    "degree = 10\n",
    "coeffs = polynomial_fit(x_train, y_train, degree)\n",
    "coeffs"
   ]
  },
  {
   "cell_type": "code",
   "execution_count": null,
   "id": "2536d25b-bf5d-48c1-93f8-6f348631ff5f",
   "metadata": {},
   "outputs": [],
   "source": []
  },
  {
   "cell_type": "code",
   "execution_count": 25,
   "id": "0474e81f-05e0-4407-b8f6-b439cd66704c",
   "metadata": {},
   "outputs": [
    {
     "data": {
      "text/plain": [
       "<matplotlib.legend.Legend at 0x287453dbf50>"
      ]
     },
     "execution_count": 25,
     "metadata": {},
     "output_type": "execute_result"
    },
    {
     "data": {
      "image/png": "[encoded data removed]",
      "text/plain": [
       "<Figure size 640x480 with 1 Axes>"
      ]
     },
     "metadata": {},
     "output_type": "display_data"
    }
   ],
   "source": [
    "test_point = np.linspace(0,400,100)\n",
    "y = []\n",
    "# print(degrees[9])\n",
    "# coeffs = coeffs_list[9]\n",
    "for i in range(len(test_point)):\n",
    "    y.append(evaluate_poly_horner(test_point[i], coeffs))\n",
    "\n",
    "plt.plot(test_point[:-1], y[:-1], label = 'test data')\n",
    "plt.scatter(df['Mass (kg)'][:20], df['r_cg_x (mm)'][:20], label = 'train data')\n",
    "plt.legend()"
   ]
  },
  {
   "cell_type": "code",
   "execution_count": null,
   "id": "5b621265-1226-449e-9b41-e02f13d73710",
   "metadata": {},
   "outputs": [],
   "source": []
  },
  {
   "cell_type": "markdown",
   "id": "6e1c0a12-c10c-4ffd-8cb7-8377d53e309f",
   "metadata": {},
   "source": [
    "## Finding best degree"
   ]
  },
  {
   "cell_type": "code",
   "execution_count": 114,
   "id": "d9069b6b-fa16-471e-93d9-33284762a445",
   "metadata": {},
   "outputs": [
    {
     "data": {
      "text/plain": [
       "16"
      ]
     },
     "execution_count": 114,
     "metadata": {},
     "output_type": "execute_result"
    }
   ],
   "source": [
    "x_train = df['Mass (kg)']\n",
    "y_train = df['r_cg_x (mm)']\n",
    "coeffs_list = []\n",
    "degrees = np.arange(2, 18, 1)\n",
    "for degree in degrees:\n",
    "    coeffs = polynomial_fit(x_train, y_train, degree)\n",
    "    coeffs_list.append(coeffs)\n",
    "len(coeffs_list)"
   ]
  },
  {
   "cell_type": "code",
   "execution_count": 116,
   "id": "ec4561c3-3bf0-4f8c-a634-f524eb568b05",
   "metadata": {},
   "outputs": [
    {
     "data": {
      "image/png": "[encoded data removed]",
      "text/plain": [
       "<Figure size 640x480 with 1 Axes>"
      ]
     },
     "metadata": {},
     "output_type": "display_data"
    }
   ],
   "source": [
    "x_val = np.array(df['Mass (kg)'])\n",
    "y_val = np.array(df['r_cg_x (mm)'])\n",
    "df_test = pd.DataFrame()\n",
    "df_test['mass'] = x_val\n",
    "error = []\n",
    "for i in range(len(coeffs_list)):\n",
    "    coeff = coeffs_list[i]\n",
    "    y_est = evaluate_poly_horner(x_val, coeff)\n",
    "    error.append(np.sum((y_val-y_est)**2))\n",
    "    df_test[f'deg_{degrees[i]}'] = y_est\n",
    "\n",
    "plt.plot(degrees[5:], error[5:], marker='o')\n",
    "plt.grid()"
   ]
  },
  {
   "cell_type": "code",
   "execution_count": null,
   "id": "d4c80afd-5ca4-481e-a108-0be0f937849e",
   "metadata": {},
   "outputs": [],
   "source": []
  },
  {
   "cell_type": "code",
   "execution_count": null,
   "id": "686a8405-0e65-498a-96ed-7a63107d71a8",
   "metadata": {},
   "outputs": [],
   "source": []
  }
 ],
 "metadata": {
  "kernelspec": {
   "display_name": "Python 3 (ipykernel)",
   "language": "python",
   "name": "python3"
  },
  "language_info": {
   "codemirror_mode": {
    "name": "ipython",
    "version": 3
   },
   "file_extension": ".py",
   "mimetype": "text/x-python",
   "name": "python",
   "nbconvert_exporter": "python",
   "pygments_lexer": "ipython3",
   "version": "3.12.4"
  }
 },
 "nbformat": 4,
 "nbformat_minor": 5
}
